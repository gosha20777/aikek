{
 "cells": [
  {
   "cell_type": "code",
   "execution_count": 13,
   "metadata": {},
   "outputs": [],
   "source": [
    "# Tempory Inference"
   ]
  },
  {
   "cell_type": "code",
   "execution_count": 2,
   "metadata": {},
   "outputs": [],
   "source": [
    "from textgenrnn import textgenrnn"
   ]
  },
  {
   "cell_type": "code",
   "execution_count": 6,
   "metadata": {},
   "outputs": [],
   "source": [
    "textgen = textgenrnn('./weights/hacker_news.hdf5')"
   ]
  },
  {
   "cell_type": "code",
   "execution_count": 12,
   "metadata": {},
   "outputs": [
    {
     "name": "stdout",
     "output_type": "stream",
     "text": [
      "Facebook Loses Mint.com Activity and Explaises Fuck Micro Created and String Than Ptrewife, the whitot Arount headless software 196.\n",
      "\n"
     ]
    }
   ],
   "source": [
    "textgen.generate()"
   ]
  },
  {
   "cell_type": "code",
   "execution_count": 14,
   "metadata": {},
   "outputs": [
    {
     "name": "stdout",
     "output_type": "stream",
     "text": [
      "6,529 texts collected.\n",
      "Training on 391,888 character sequences.\n",
      "Epoch 1/1\n",
      "3061/3061 [==============================] - 816s 266ms/step - loss: 4.2951\n",
      "####################\n",
      "Temperature: 0.2\n",
      "####################\n",
      "начч   в   audegle cex поо               о       о   о        оо         о         о\n",
      "\n",
      "в  space roll birds mо                         \n",
      "\n",
      "в  space по            с   еоо    о и            о        о    а   о  а     е                          ои о роо           о           о                оиео            о    о       о  о    о            о            о              оео  оо      ом    н  о    ио  и\n",
      "\n",
      "####################\n",
      "Temperature: 0.5\n",
      "####################\n",
      "okdonneFlam\n",
      "\n",
      "кае расаи ли    наоос е   омс    д ма о  но вко \n",
      "\n",
      "моо      р    иои мо бгснгрсар  сим\n",
      "\n",
      "####################\n",
      "Temperature: 1.0\n",
      "####################\n",
      "amp веноа   спеомв сса оу сен  Lн нде олонтбто еолг ееосыгау а еысарвравтоо  еоннр дениимн рлариа ткяаи  едт  таодоб   мвиавкс иим гь евсиохксрвп учаьм и инрклни иитк рмесизекдгдсрсийе испее   очтлс м ьумеоодуамееы  лдннов оатн врагяп илгаунаоь с   сгв и\n",
      "\n",
      "раоа сас нлхтхтеесл о ноо тптпмрыоыво   поныаа аз  р оароыа абоо тбтля с иааее в озыоиик  биео е апя г аоленионеяисмнремхли оалроа нлаткнросо а    оомдпоеавнсе ннслиге  \n",
      "\n",
      "tenditwol a mirddensloo aид енй разаакискиоои     д о и оррт \n",
      "\n"
     ]
    }
   ],
   "source": [
    "textgen.train_from_file('./datasets/ru_ai_titles.txt', num_epochs=1)"
   ]
  },
  {
   "cell_type": "code",
   "execution_count": null,
   "metadata": {},
   "outputs": [],
   "source": []
  }
 ],
 "metadata": {
  "kernelspec": {
   "display_name": "Python 3",
   "language": "python",
   "name": "python3"
  },
  "language_info": {
   "codemirror_mode": {
    "name": "ipython",
    "version": 3
   },
   "file_extension": ".py",
   "mimetype": "text/x-python",
   "name": "python",
   "nbconvert_exporter": "python",
   "pygments_lexer": "ipython3",
   "version": "3.6.5"
  }
 },
 "nbformat": 4,
 "nbformat_minor": 2
}
